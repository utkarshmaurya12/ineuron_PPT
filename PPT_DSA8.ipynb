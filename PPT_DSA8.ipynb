{
 "cells": [
  {
   "cell_type": "markdown",
   "id": "6a833066",
   "metadata": {},
   "source": [
    "Given two strings s1 and s2, return the lowest ASCII sum of deleted characters to make two strings equal."
   ]
  },
  {
   "cell_type": "code",
   "execution_count": 1,
   "id": "2b99ee60",
   "metadata": {},
   "outputs": [],
   "source": [
    "class Solution:\n",
    "    def minimumDeleteSum(self, s1, s2):\n",
    "        n,m,res = len(s1),len(s2),0\n",
    "        dp = [0] * (m + 1)\n",
    "        for i in s1 + s2: res += ord(i)\n",
    "        for i in range(n):\n",
    "            prev = 0\n",
    "            for j in range(m):\n",
    "                if s1[i] == s2[j]:\n",
    "                    prev, dp[j+1] = dp[j+1], max(dp[j] , prev + ord(s1[i]))\n",
    "                else:\n",
    "                    prev, dp[j+1] = dp[j+1], max(dp[j+1] , dp[j])\n",
    "        return res - (dp[-1] << 1)"
   ]
  },
  {
   "cell_type": "markdown",
   "id": "f66ddea8",
   "metadata": {},
   "source": [
    "Given a string s containing only three types of characters: '(', ')' and '*', return true if s is valid."
   ]
  },
  {
   "cell_type": "code",
   "execution_count": 2,
   "id": "a84d3034",
   "metadata": {},
   "outputs": [],
   "source": [
    "class Solution:\n",
    "    def checkValidString(self, s: str) -> bool:\n",
    "        leftmin = leftmax = 0\n",
    "        for c in s:\n",
    "            if c == \"(\":\n",
    "                leftmax += 1\n",
    "                leftmin += 1\n",
    "            if c == \")\":\n",
    "                leftmax -= 1\n",
    "                leftmin = max(0, leftmin-1)\n",
    "            if c == \"*\":\n",
    "                leftmax +=1\n",
    "                leftmin = max(0, leftmin-1)\n",
    "            if leftmax < 0:\n",
    "                return False\n",
    "        if leftmin == 0:\n",
    "            return True"
   ]
  },
  {
   "cell_type": "markdown",
   "id": "8c6bda6e",
   "metadata": {},
   "source": [
    "Given two strings word1 and word2, return *the minimum number of **steps** required to make* word1 *and* word2 *the same*.\n",
    "\n",
    "In one **step**, you can delete exactly one character in either string."
   ]
  },
  {
   "cell_type": "code",
   "execution_count": 3,
   "id": "29bd855b",
   "metadata": {},
   "outputs": [],
   "source": [
    "class Solution:\n",
    "    def minDistance(self, word1: str, word2: str) -> int:\n",
    "        m, n = len(word1), len(word2)\n",
    "        dp = [[0] * (n + 1) for _ in range(m + 1)]\n",
    "        \n",
    "        # fill in the dynamic programming table\n",
    "        for i in range(1, m + 1):\n",
    "            for j in range(1, n + 1):\n",
    "                if word1[i - 1] == word2[j - 1]:\n",
    "                    dp[i][j] = dp[i - 1][j - 1] + 1\n",
    "                else:\n",
    "                    dp[i][j] = max(dp[i - 1][j], dp[i][j - 1])\n",
    "        \n",
    "        # return the minimum number of deletions required\n",
    "        return m + n - 2 * dp[m][n]"
   ]
  },
  {
   "cell_type": "markdown",
   "id": "d5fb29cb",
   "metadata": {},
   "source": [
    "You need to construct a binary tree from a string consisting of parenthesis and integers.\n",
    "\n",
    "The whole input represents a binary tree. It contains an integer followed by zero, one or two pairs of parenthesis. The integer represents the root's value and a pair of parenthesis contains a child binary tree with the same structure.\n",
    "You always start to construct the **left** child node of the parent first if it exists."
   ]
  },
  {
   "cell_type": "code",
   "execution_count": 8,
   "id": "8923c004",
   "metadata": {},
   "outputs": [
    {
     "ename": "NameError",
     "evalue": "name 'Optional' is not defined",
     "output_type": "error",
     "traceback": [
      "\u001b[1;31m---------------------------------------------------------------------------\u001b[0m",
      "\u001b[1;31mNameError\u001b[0m                                 Traceback (most recent call last)",
      "Input \u001b[1;32mIn [8]\u001b[0m, in \u001b[0;36m<cell line: 1>\u001b[1;34m()\u001b[0m\n\u001b[1;32m----> 1\u001b[0m \u001b[38;5;28;01mdef\u001b[39;00m \u001b[38;5;21mtree2str\u001b[39m(\u001b[38;5;28mself\u001b[39m, root: \u001b[43mOptional\u001b[49m[TreeNode]) \u001b[38;5;241m-\u001b[39m\u001b[38;5;241m>\u001b[39m \u001b[38;5;28mstr\u001b[39m:\n\u001b[0;32m      2\u001b[0m     \u001b[38;5;28;01mdef\u001b[39;00m \u001b[38;5;21msolve\u001b[39m(curNode):\n\u001b[0;32m      3\u001b[0m         \u001b[38;5;28;01mif\u001b[39;00m \u001b[38;5;129;01mnot\u001b[39;00m curNode:\n",
      "\u001b[1;31mNameError\u001b[0m: name 'Optional' is not defined"
     ]
    }
   ],
   "source": [
    "def tree2str(self, root: Optional[TreeNode]) -> str:\n",
    "    def solve(curNode):\n",
    "        if not curNode:\n",
    "            return ''\n",
    "        \n",
    "        subString = str(curNode.val)\n",
    "\t\t#If curNode has no children\n",
    "        if not curNode.left and not curNode.right:\n",
    "            return subString\n",
    "\t\t\n",
    "        subString += '(' + solve(curNode.left) + ')'\n",
    "        if curNode.right:\n",
    "            subString += '(' + solve(curNode.right) + ')'\n",
    "        \n",
    "        return subString\n",
    "   \n",
    "    return solve(root)"
   ]
  },
  {
   "cell_type": "code",
   "execution_count": null,
   "id": "9b63c3d8",
   "metadata": {},
   "outputs": [],
   "source": []
  }
 ],
 "metadata": {
  "kernelspec": {
   "display_name": "Python 3 (ipykernel)",
   "language": "python",
   "name": "python3"
  },
  "language_info": {
   "codemirror_mode": {
    "name": "ipython",
    "version": 3
   },
   "file_extension": ".py",
   "mimetype": "text/x-python",
   "name": "python",
   "nbconvert_exporter": "python",
   "pygments_lexer": "ipython3",
   "version": "3.9.12"
  }
 },
 "nbformat": 4,
 "nbformat_minor": 5
}
