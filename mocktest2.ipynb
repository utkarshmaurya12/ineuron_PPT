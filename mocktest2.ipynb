{
 "cells": [
  {
   "cell_type": "markdown",
   "id": "9d6ea19f",
   "metadata": {},
   "source": [
    "# Given a non-negative integer x, return the square root of x rounded down to the nearest integer. The returned integer should be non-negative as well. You must not use any built-in exponent function or operator. \n"
   ]
  },
  {
   "cell_type": "code",
   "execution_count": null,
   "id": "160c50da",
   "metadata": {},
   "outputs": [],
   "source": [
    "class Solution:\n",
    "    def mySqrt(self, x: int) -> int:\n",
    "        if x==0:\n",
    "            return 0\n",
    "        elif x==1:\n",
    "            return 1\n",
    "        for i in range(1, x+1):\n",
    "            if i*i > x:\n",
    "                return i-1"
   ]
  }
 ],
 "metadata": {
  "kernelspec": {
   "display_name": "Python 3 (ipykernel)",
   "language": "python",
   "name": "python3"
  },
  "language_info": {
   "codemirror_mode": {
    "name": "ipython",
    "version": 3
   },
   "file_extension": ".py",
   "mimetype": "text/x-python",
   "name": "python",
   "nbconvert_exporter": "python",
   "pygments_lexer": "ipython3",
   "version": "3.9.12"
  }
 },
 "nbformat": 4,
 "nbformat_minor": 5
}
