{
 "cells": [
  {
   "cell_type": "markdown",
   "id": "09d932ee",
   "metadata": {},
   "source": [
    "Given two strings s and t, *determine if they are isomorphic*.\n",
    "\n",
    "Two strings s and t are isomorphic if the characters in s can be replaced to get t.\n",
    "\n",
    "All occurrences of a character must be replaced with another character while preserving the order of characters. No two characters may map to the same character, but a character may map to itself."
   ]
  },
  {
   "cell_type": "code",
   "execution_count": 2,
   "id": "dfc01e2e",
   "metadata": {},
   "outputs": [],
   "source": [
    "# Time Complexity : O(n)\n",
    "class Solution(object):\n",
    "    def isIsomorphic(self, s, t):\n",
    "        map1 = []\n",
    "        map2 = []\n",
    "        for idx in s:\n",
    "            map1.append(s.index(idx))\n",
    "        for idx in t:\n",
    "            map2.append(t.index(idx))\n",
    "        if map1 == map2:\n",
    "            return True\n",
    "        return False"
   ]
  },
  {
   "cell_type": "markdown",
   "id": "9e5d184b",
   "metadata": {},
   "source": [
    "Given a string num which represents an integer, return true *if* num *is a **strobogrammatic number***.\n",
    "\n",
    "A **strobogrammatic number** is a number that looks the same when rotated 180 degrees (looked at upside down)."
   ]
  },
  {
   "cell_type": "code",
   "execution_count": 3,
   "id": "8a388a60",
   "metadata": {},
   "outputs": [
    {
     "name": "stdout",
     "output_type": "stream",
     "text": [
      "['818', '111', '916', '619', '808', '101', '906', '609', '888', '181', '986', '689']\n"
     ]
    }
   ],
   "source": [
    "def strobogrammatic_num(n):\n",
    "       \n",
    "    result = numdef(n, n)\n",
    "    return result\n",
    "       \n",
    "def numdef(n, length):\n",
    "       \n",
    "    if n == 0: return [\"\"]\n",
    "    if n == 1: return [\"1\", \"0\", \"8\"]\n",
    "       \n",
    "    middles = numdef(n - 2, length)\n",
    "    result = []\n",
    "       \n",
    "    for middle in middles:\n",
    "        if n != length:           \n",
    "            result.append(\"0\" + middle + \"0\")\n",
    "   \n",
    "        result.append(\"8\" + middle + \"8\")\n",
    "        result.append(\"1\" + middle + \"1\")\n",
    "        result.append(\"9\" + middle + \"6\")\n",
    "        result.append(\"6\" + middle + \"9\")\n",
    "    return result\n",
    "   \n",
    "if __name__ == '__main__':\n",
    "       \n",
    "    # Print all Strobogrammatic\n",
    "    # number for n = 3\n",
    "    print(strobogrammatic_num(3))"
   ]
  },
  {
   "cell_type": "markdown",
   "id": "8c1dfc69",
   "metadata": {},
   "source": [
    "Given two non-negative integers, num1 and num2 represented as string, return *the sum of* num1 *and* num2 *as a string*.\n",
    "\n",
    "You must solve the problem without using any built-in library for handling large integers (such as BigInteger). You must also not convert the inputs to integers directly."
   ]
  },
  {
   "cell_type": "code",
   "execution_count": 4,
   "id": "70688b24",
   "metadata": {},
   "outputs": [],
   "source": [
    "class Solution(object):\n",
    "    def addStrings(self, num1, num2):\n",
    "        \"\"\"\n",
    "        :type num1: str\n",
    "        :type num2: str\n",
    "        :rtype: str\n",
    "        \"\"\"\n",
    "        return str(int(num1)+int(num2))\n",
    "        "
   ]
  },
  {
   "cell_type": "markdown",
   "id": "ae882efa",
   "metadata": {},
   "source": [
    "Given a string s, reverse the order of characters in each word within a sentence while still preserving whitespace and initial word order."
   ]
  },
  {
   "cell_type": "code",
   "execution_count": 5,
   "id": "fcd540c4",
   "metadata": {},
   "outputs": [],
   "source": [
    "class Solution(object):\n",
    "    def reverseWords(self, s):\n",
    "        \"\"\"\n",
    "        :type s: str\n",
    "        :rtype: str\n",
    "        \"\"\"\n",
    "        s = map(lambda x: x[::-1], s.split(' '))\n",
    "        return ' '.join(s)"
   ]
  },
  {
   "cell_type": "code",
   "execution_count": null,
   "id": "ad08d743",
   "metadata": {},
   "outputs": [],
   "source": []
  }
 ],
 "metadata": {
  "kernelspec": {
   "display_name": "Python 3 (ipykernel)",
   "language": "python",
   "name": "python3"
  },
  "language_info": {
   "codemirror_mode": {
    "name": "ipython",
    "version": 3
   },
   "file_extension": ".py",
   "mimetype": "text/x-python",
   "name": "python",
   "nbconvert_exporter": "python",
   "pygments_lexer": "ipython3",
   "version": "3.9.12"
  }
 },
 "nbformat": 4,
 "nbformat_minor": 5
}
