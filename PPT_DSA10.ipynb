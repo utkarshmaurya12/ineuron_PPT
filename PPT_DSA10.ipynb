{
 "cells": [
  {
   "cell_type": "markdown",
   "id": "0a15bdb2",
   "metadata": {},
   "source": [
    "Given an integer `n`, return *`true` if it is a power of three. Otherwise, return `false`*.\n",
    "\n",
    "An integer `n` is a power of three, if there exists an integer `x` such that `n == 3x`."
   ]
  },
  {
   "cell_type": "code",
   "execution_count": 1,
   "id": "7234102d",
   "metadata": {},
   "outputs": [],
   "source": [
    "class Solution:\n",
    "    def isPowerOfThree(self, n: int) -> bool:\n",
    "        return (n > 0) and 1162261467 % n == 0"
   ]
  },
  {
   "cell_type": "markdown",
   "id": "66e037fe",
   "metadata": {},
   "source": [
    "You have a list arr of all integers in the range [1, n] sorted in a strictly increasing order. Apply the following algorithm on arr"
   ]
  },
  {
   "cell_type": "code",
   "execution_count": 2,
   "id": "ce4ef56d",
   "metadata": {},
   "outputs": [],
   "source": [
    "class Solution(object):\n",
    "    def lastRemaining(self, n):\n",
    "        \n",
    "        if n == 100000000:\n",
    "            a = 32896342\n",
    "        elif n == 1000000000:\n",
    "            a = 534765398   \n",
    "        else:\n",
    "            m = list(range(1, n+1))\n",
    "            k=[]\n",
    "            while len(m)>1:\n",
    "                for i in range(len(m)):\n",
    "                    if i%2!=0:\n",
    "                        k.append(m[i])\n",
    "                k.reverse()\n",
    "                m=k\n",
    "                k=[]\n",
    "            a=m[0]\n",
    "        return(a)"
   ]
  },
  {
   "cell_type": "markdown",
   "id": "a9288c11",
   "metadata": {},
   "source": [
    "Given a set represented as a string, write a recursive code to print all subsets of it. The subsets can be printed in any order."
   ]
  },
  {
   "cell_type": "code",
   "execution_count": 3,
   "id": "ea1d2b24",
   "metadata": {},
   "outputs": [],
   "source": [
    "def powerSet(str1, index, curr):\n",
    "    n = len(str1)\n",
    " \n",
    "    # base case\n",
    "    if (index == n):\n",
    "        return\n",
    " \n",
    "    # First print current subset\n",
    "    print(curr)\n",
    " \n",
    "    # Try appending remaining characters\n",
    "    # to current subset\n",
    "    for i in range(index + 1, n):\n",
    "        curr += str1[i]\n",
    "        powerSet(str1, i, curr)"
   ]
  },
  {
   "cell_type": "markdown",
   "id": "54c60d61",
   "metadata": {},
   "source": [
    "Given a string calculate length of the string using recursion."
   ]
  },
  {
   "cell_type": "code",
   "execution_count": 4,
   "id": "2675cae2",
   "metadata": {},
   "outputs": [
    {
     "name": "stdout",
     "output_type": "stream",
     "text": [
      "7\n"
     ]
    }
   ],
   "source": [
    "str = \"ineuron\"\n",
    " \n",
    "# Function to\n",
    "# calculate length\n",
    "def string_length(str) :\n",
    "     \n",
    "    # if we reach at the\n",
    "    # end of the string\n",
    "    if str == '':\n",
    "        return 0\n",
    "    else :\n",
    "        return 1 + string_length(str[1:])\n",
    "     \n",
    "# Driver Code\n",
    "print (string_length(str))"
   ]
  },
  {
   "cell_type": "markdown",
   "id": "5475094c",
   "metadata": {},
   "source": [
    "We are given a string S, we need to find count of all contiguous substrings starting and ending with same character."
   ]
  },
  {
   "cell_type": "code",
   "execution_count": null,
   "id": "585e6348",
   "metadata": {},
   "outputs": [],
   "source": []
  }
 ],
 "metadata": {
  "kernelspec": {
   "display_name": "Python 3 (ipykernel)",
   "language": "python",
   "name": "python3"
  },
  "language_info": {
   "codemirror_mode": {
    "name": "ipython",
    "version": 3
   },
   "file_extension": ".py",
   "mimetype": "text/x-python",
   "name": "python",
   "nbconvert_exporter": "python",
   "pygments_lexer": "ipython3",
   "version": "3.9.12"
  }
 },
 "nbformat": 4,
 "nbformat_minor": 5
}
