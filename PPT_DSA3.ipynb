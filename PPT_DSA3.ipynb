{
 "cells": [
  {
   "cell_type": "markdown",
   "id": "1069fa2d",
   "metadata": {},
   "source": [
    "Given an integer array nums of length n and an integer target, find three integers\n",
    "in nums such that the sum is closest to the target.\n",
    "Return the sum of the three integers.\n",
    "\n",
    "You may assume that each input would have exactly one solution.\n",
    "\n",
    "Example 1:\n",
    "Input: nums = [-1,2,1,-4], target = 1\n",
    "Output: 2\n",
    "\n",
    "Explanation: The sum that is closest to the target is 2. (-1 + 2 + 1 = 2)."
   ]
  },
  {
   "cell_type": "code",
   "execution_count": 2,
   "id": "ab1ad205",
   "metadata": {},
   "outputs": [],
   "source": [
    "\n",
    "class Solution:\n",
    "    def threeSumClosest(self, num, target):\n",
    "        num.sort()\n",
    "        result = num[0] + num[1] + num[2]\n",
    "        for i in range(len(num) - 2):\n",
    "            j, k = i+1, len(num) - 1\n",
    "            while j < k:\n",
    "                sum = num[i] + num[j] + num[k]\n",
    "                if sum == target:\n",
    "                    return sum\n",
    "                \n",
    "                if abs(sum - target) < abs(result - target):\n",
    "                    result = sum\n",
    "                \n",
    "                if sum < target:\n",
    "                    j += 1\n",
    "                elif sum > target:\n",
    "                    k -= 1\n",
    "                else:\n",
    "                    return result\n",
    "            \n",
    "        return result"
   ]
  },
  {
   "cell_type": "markdown",
   "id": "6543a235",
   "metadata": {},
   "source": [
    "Given an array nums of n integers, return an array of all the unique quadruplets\n",
    "[nums[a], nums[b], nums[c], nums[d]] such that:\n",
    "           ● 0 <= a, b, c, d < n\n",
    "           ● a, b, c, and d are distinct.\n",
    "           ● nums[a] + nums[b] + nums[c] + nums[d] == target"
   ]
  },
  {
   "cell_type": "code",
   "execution_count": 3,
   "id": "96b1c024",
   "metadata": {},
   "outputs": [],
   "source": [
    "class Solution(object):\n",
    "    def fourSum(self, nums, target):\n",
    "        quadruplets = []\n",
    "        n = len(nums)\n",
    "        # Sorting the array\n",
    "        nums.sort()\n",
    "        for i in range(n - 3):\n",
    "            # Skip duplicates\n",
    "            if i > 0 and nums[i] == nums[i - 1]:\n",
    "                continue\n",
    "            for j in range(i + 1, n - 2):\n",
    "                # Skip duplicates\n",
    "                if j > i + 1 and nums[j] == nums[j - 1]:\n",
    "                    continue\n",
    "                left = j + 1\n",
    "                right = n - 1\n",
    "                while left < right:\n",
    "                    sum = nums[i] + nums[j] + nums[left] + nums[right]\n",
    "                    if sum < target:\n",
    "                        left += 1\n",
    "                    elif sum > target:\n",
    "                        right -= 1\n",
    "                    else:\n",
    "                        quadruplets.append([nums[i], nums[j], nums[left], nums[right]])\n",
    "                        # Skip duplicates\n",
    "                        while left < right and nums[left] == nums[left + 1]:\n",
    "                            left += 1\n",
    "                        while left < right and nums[right] == nums[right - 1]:\n",
    "                            right -= 1\n",
    "                        left += 1\n",
    "                        right -= 1\n",
    "        return quadruplets"
   ]
  },
  {
   "cell_type": "markdown",
   "id": "1041bf0e",
   "metadata": {},
   "source": [
    "A permutation of an array of integers is an arrangement of its members into a\n",
    "sequence or linear order.\n",
    "\n",
    "For example, for arr = [1,2,3], the following are all the permutations of arr:\n",
    "[1,2,3], [1,3,2], [2, 1, 3], [2, 3, 1], [3,1,2], [3,2,1].\n"
   ]
  },
  {
   "cell_type": "code",
   "execution_count": 4,
   "id": "897eed50",
   "metadata": {},
   "outputs": [],
   "source": [
    "class Solution(object):\n",
    "    def nextPermutation(self, nums):\n",
    "        n = len(nums)\n",
    "        k, l = n - 2, n - 1\n",
    "        while k >= 0 and nums[k] >= nums[k + 1]:\n",
    "            k -= 1\n",
    "        if k < 0:\n",
    "            nums.reverse()\n",
    "        else:\n",
    "            while l > k and nums[l] <= nums[k]:\n",
    "                l -= 1\n",
    "            nums[k], nums[l] = nums[l], nums[k]\n",
    "            nums[k + 1:n] = reversed(nums[k + 1:n])"
   ]
  },
  {
   "cell_type": "markdown",
   "id": "3937671d",
   "metadata": {},
   "source": [
    "You are given a large integer represented as an integer array digits, where each\n",
    "digits[i] is the ith digit of the integer. The digits are ordered from most significant\n",
    "to least significant in left-to-right order. The large integer does not contain any\n",
    "leading 0's."
   ]
  },
  {
   "cell_type": "code",
   "execution_count": 5,
   "id": "919526e1",
   "metadata": {},
   "outputs": [],
   "source": [
    "class Solution(object):\n",
    "    def plusOne(self, digits):\n",
    "        \"\"\"\n",
    "        :type digits: List[int]\n",
    "        :rtype: List[int]\n",
    "        \"\"\"\n",
    "        i = -1 #index to start from the end\n",
    "        length = len(digits) \n",
    "\n",
    "        def Calculate(arr, i, length):\n",
    "            if length != 0 and arr[i] != 9:\n",
    "                arr[i] += 1 \n",
    "            elif length > 0:\n",
    "                arr[i] = 0\n",
    "                length -= 1\n",
    "                i -= 1\n",
    "                Calculate(arr, i, length)\n",
    "            else:\n",
    "                arr.insert(0, 1) \n",
    "        \n",
    "        Calculate(digits, i, length)\n",
    "        return digits"
   ]
  },
  {
   "cell_type": "markdown",
   "id": "495de383",
   "metadata": {},
   "source": [
    "Given a non-empty array of integers nums, every element appears twice except\n",
    "for one. Find that single one.\n",
    "\n",
    "You must implement a solution with a linear runtime complexity and use only\n",
    "constant extra space."
   ]
  },
  {
   "cell_type": "code",
   "execution_count": 6,
   "id": "5726053d",
   "metadata": {},
   "outputs": [],
   "source": [
    "class Solution(object):\n",
    "    def singleNumber(self, nums):\n",
    "        # Initialize the unique number...\n",
    "        uniqNum = 0;\n",
    "        # TRaverse all elements through the loop...\n",
    "        for idx in nums:\n",
    "            # Concept of XOR...\n",
    "            uniqNum ^= idx;\n",
    "        return uniqNum;       # Return the unique number..."
   ]
  },
  {
   "cell_type": "code",
   "execution_count": null,
   "id": "8ec14227",
   "metadata": {},
   "outputs": [],
   "source": []
  }
 ],
 "metadata": {
  "kernelspec": {
   "display_name": "Python 3 (ipykernel)",
   "language": "python",
   "name": "python3"
  },
  "language_info": {
   "codemirror_mode": {
    "name": "ipython",
    "version": 3
   },
   "file_extension": ".py",
   "mimetype": "text/x-python",
   "name": "python",
   "nbconvert_exporter": "python",
   "pygments_lexer": "ipython3",
   "version": "3.9.12"
  }
 },
 "nbformat": 4,
 "nbformat_minor": 5
}
