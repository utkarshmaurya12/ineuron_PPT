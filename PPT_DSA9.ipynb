{
 "cells": [
  {
   "cell_type": "markdown",
   "id": "297b5ae3",
   "metadata": {},
   "source": [
    "Given an integer `n`, return *`true` if it is a power of two. Otherwise, return `false`*.\n",
    "\n",
    "An integer `n` is a power of two, if there exists an integer `x` such that `n == 2x`."
   ]
  },
  {
   "cell_type": "code",
   "execution_count": 2,
   "id": "da042597",
   "metadata": {},
   "outputs": [],
   "source": [
    "class Solution(object):\n",
    "    def isPowerOfTwo(self, n):\n",
    "        if n <= 0:\n",
    "            return False\n",
    "        if n == 1:\n",
    "            return True\n",
    "        # Keep dividing the number by ‘2’ until it is not divisible by ‘2’ anymore.\n",
    "        while (n % 2 == 0):\n",
    "            n /= 2\n",
    "        # If n is equal to 1, The integer is a power of two otherwise false...\n",
    "        return n == 1"
   ]
  },
  {
   "cell_type": "markdown",
   "id": "0e99432b",
   "metadata": {},
   "source": [
    "Given a number n, find the sum of the first natural numbers."
   ]
  },
  {
   "cell_type": "code",
   "execution_count": 7,
   "id": "51b7d7b3",
   "metadata": {},
   "outputs": [
    {
     "name": "stdout",
     "output_type": "stream",
     "text": [
      "Enter a number: 7\n",
      "The sum of first n natural numbers is 28\n"
     ]
    }
   ],
   "source": [
    "n=int(input(\"Enter a number: \"))\n",
    "sum1 = 0\n",
    "while(n > 0):\n",
    "    sum1=sum1+n\n",
    "    n=n-1\n",
    "print(\"The sum of first n natural numbers is\",sum1)"
   ]
  },
  {
   "cell_type": "markdown",
   "id": "03426f10",
   "metadata": {},
   "source": [
    "Given a positive integer, N. Find the factorial of N. "
   ]
  },
  {
   "cell_type": "code",
   "execution_count": 8,
   "id": "7a787dec",
   "metadata": {},
   "outputs": [
    {
     "name": "stdout",
     "output_type": "stream",
     "text": [
      "Factorial of 5 is 120\n"
     ]
    }
   ],
   "source": [
    "def factorial(n):\n",
    "       \n",
    "    if n == 0:\n",
    "        return 1\n",
    "      \n",
    "    return n * factorial(n-1)\n",
    "   \n",
    "# Driver Code\n",
    "num = 5;\n",
    "print(\"Factorial of\", num, \"is\",\n",
    "factorial(num))"
   ]
  },
  {
   "cell_type": "markdown",
   "id": "dc72e095",
   "metadata": {},
   "source": [
    "Given a number N and a power P, the task is to find the exponent of this number raised to the given power, i.e. N^P."
   ]
  },
  {
   "cell_type": "code",
   "execution_count": 9,
   "id": "b481552a",
   "metadata": {},
   "outputs": [
    {
     "name": "stdout",
     "output_type": "stream",
     "text": [
      "8\n",
      "81\n"
     ]
    }
   ],
   "source": [
    "def CalculatePower(N,X):\n",
    "  P=1\n",
    "  for i in range(1, X+1):\n",
    "    P=P*N\n",
    "  return P\n",
    " \n",
    "N,X=2,3\n",
    "print(CalculatePower(N,X))\n",
    "N,X=3,4\n",
    "print(CalculatePower(N,X))"
   ]
  },
  {
   "cell_type": "markdown",
   "id": "bba29103",
   "metadata": {},
   "source": [
    "Given an array of integers arr, the task is to find maximum element of that array using recursion."
   ]
  },
  {
   "cell_type": "code",
   "execution_count": 10,
   "id": "edc0584d",
   "metadata": {},
   "outputs": [
    {
     "name": "stdout",
     "output_type": "stream",
     "text": [
      "-50\n"
     ]
    }
   ],
   "source": [
    "def findMinRec(A, n):\n",
    "     \n",
    "    if (n == 1):\n",
    "        return A[0]\n",
    "    return min(A[n - 1], findMinRec(A, n - 1))\n",
    " \n",
    "# Driver Code\n",
    "if __name__ == '__main__':\n",
    "    A = [1, 4, 45, 6, -50, 10, 2]\n",
    "    n = len(A)\n",
    "    print(findMinRec(A, n))"
   ]
  },
  {
   "cell_type": "code",
   "execution_count": null,
   "id": "eeddc85a",
   "metadata": {},
   "outputs": [],
   "source": []
  }
 ],
 "metadata": {
  "kernelspec": {
   "display_name": "Python 3 (ipykernel)",
   "language": "python",
   "name": "python3"
  },
  "language_info": {
   "codemirror_mode": {
    "name": "ipython",
    "version": 3
   },
   "file_extension": ".py",
   "mimetype": "text/x-python",
   "name": "python",
   "nbconvert_exporter": "python",
   "pygments_lexer": "ipython3",
   "version": "3.9.12"
  }
 },
 "nbformat": 4,
 "nbformat_minor": 5
}
