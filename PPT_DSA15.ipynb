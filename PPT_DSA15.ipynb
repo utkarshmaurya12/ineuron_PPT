{
 "cells": [
  {
   "cell_type": "markdown",
   "id": "63503e1e",
   "metadata": {},
   "source": [
    "Given an array arr[ ] of size N having elements, the task is to find the next greater element for each element of the array in order of their appearance in the array.Next greater element of an element in the array is the nearest element on the right which is greater than the current element.If there does not exist next greater of current element, then next greater element for current element is -1. For example, next greater of the last element is always -1."
   ]
  },
  {
   "cell_type": "code",
   "execution_count": 1,
   "id": "f2344864",
   "metadata": {},
   "outputs": [
    {
     "name": "stdout",
     "output_type": "stream",
     "text": [
      "11 -- 13\n",
      "13 -- 21\n",
      "21 -- -1\n",
      "3 -- -1\n"
     ]
    }
   ],
   "source": [
    "def printNGE(arr):\n",
    " \n",
    "    for i in range(0, len(arr), 1):\n",
    " \n",
    "        next = -1\n",
    "        for j in range(i+1, len(arr), 1):\n",
    "            if arr[i] < arr[j]:\n",
    "                next = arr[j]\n",
    "                break\n",
    " \n",
    "        print(str(arr[i]) + \" -- \" + str(next))\n",
    " \n",
    " \n",
    "# Driver program to test above function\n",
    "arr = [11, 13, 21, 3]\n",
    "printNGE(arr)"
   ]
  },
  {
   "cell_type": "markdown",
   "id": "85e12ee5",
   "metadata": {},
   "source": [
    "Given an array a of integers of length n, find the nearest smaller number for every element such that the smaller element is on left side.If no small element present on the left print -1."
   ]
  },
  {
   "cell_type": "code",
   "execution_count": 4,
   "id": "f5f564fe",
   "metadata": {},
   "outputs": [
    {
     "name": "stdout",
     "output_type": "stream",
     "text": [
      "_, 1 , _, 0 , 2 , "
     ]
    }
   ],
   "source": [
    "def printPrevSmaller(arr, n):\n",
    " \n",
    "    print(\"_, \", end=\"\")\n",
    " \n",
    "    for i in range(1, n ):\n",
    "     \n",
    "        for j in range(i-1 ,-2 ,-1):\n",
    "         \n",
    "            if (arr[j] < arr[i]):\n",
    "             \n",
    "                print(arr[j] ,\", \",\n",
    "                            end=\"\")\n",
    "                break\n",
    " \n",
    "        # If there is no smaller\n",
    "        # element on left of 'i'\n",
    "        if (j == -1):\n",
    "            print(\"_, \", end=\"\")\n",
    " \n",
    "\n",
    "arr = [1, 3, 0, 2, 5]\n",
    "n = len(arr)\n",
    "printPrevSmaller(arr, n)"
   ]
  },
  {
   "cell_type": "code",
   "execution_count": null,
   "id": "c15de324",
   "metadata": {},
   "outputs": [],
   "source": []
  }
 ],
 "metadata": {
  "kernelspec": {
   "display_name": "Python 3 (ipykernel)",
   "language": "python",
   "name": "python3"
  },
  "language_info": {
   "codemirror_mode": {
    "name": "ipython",
    "version": 3
   },
   "file_extension": ".py",
   "mimetype": "text/x-python",
   "name": "python",
   "nbconvert_exporter": "python",
   "pygments_lexer": "ipython3",
   "version": "3.9.12"
  }
 },
 "nbformat": 4,
 "nbformat_minor": 5
}
