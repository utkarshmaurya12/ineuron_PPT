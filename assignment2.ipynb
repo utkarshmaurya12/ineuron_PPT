{
 "cells": [
  {
   "cell_type": "markdown",
   "id": "41843824",
   "metadata": {},
   "source": [
    "# \n",
    "Alice has n candies, where the ith candy is of type candyType[i]. Alice noticed that she started to gain weight, so she visited a doctor. \n",
    "\n",
    "The doctor advised Alice to only eat n / 2 of the candies she has (n is always even). Alice likes her candies very much, and she wants to eat the maximum number of different types of candies while still following the doctor's advice. \n",
    "\n",
    "Given the integer array candyType of length n, return the maximum number of different types of candies she can eat if she only eats n / 2 of them.\n"
   ]
  },
  {
   "cell_type": "code",
   "execution_count": null,
   "id": "c567d839",
   "metadata": {},
   "outputs": [],
   "source": [
    "class Solution:\n",
    "    def distributeCandies(self, candyType: List[int]) -> int:\n",
    "        return min(len(list(set(candyType))),int(len(candyType)/2))"
   ]
  },
  {
   "cell_type": "markdown",
   "id": "77907539",
   "metadata": {},
   "source": [
    "# \n",
    " We define a harmonious array as an array where the difference between its maximum value and its minimum value is exactly 1.\n",
    "Given an integer array nums, return the length of its longest harmonious subsequence\n",
    "among all its possible subsequences.\n",
    "A subsequence of an array is a sequence that can be derived from the array by deleting some or no elements without changing the order of the remaining elements."
   ]
  },
  {
   "cell_type": "code",
   "execution_count": null,
   "id": "4030368b",
   "metadata": {},
   "outputs": [],
   "source": [
    "class Solution:\n",
    "    def findLHS(self, nums: List[int]) -> int:\n",
    "        my_dict = defaultdict(int)\n",
    "        # keep in dict the number of times each number appears:\n",
    "        for num in nums:\n",
    "            my_dict[num]+=1\n",
    "            \n",
    "        max_ = 0\n",
    "        # for each number in dict check if it+its following number is more than previous max:\n",
    "        for num in my_dict.keys():\n",
    "            if my_dict.get(num+1):\n",
    "                max_ = max(max_, my_dict[num] + my_dict.get(num+1))\n",
    "        return max_"
   ]
  },
  {
   "cell_type": "markdown",
   "id": "14372de5",
   "metadata": {},
   "source": [
    "# \n",
    "You have a long flowerbed in which some of the plots are planted, and some are not.\n",
    "However, flowers cannot be planted in adjacent plots.\n",
    "Given an integer array flowerbed containing 0's and 1's, where 0 means empty and 1 means not empty, and an integer n, return true if n new flowers can be planted in the flowerbed without violating the no-adjacent-flowers rule and false otherwise."
   ]
  },
  {
   "cell_type": "code",
   "execution_count": null,
   "id": "347df716",
   "metadata": {},
   "outputs": [],
   "source": [
    "class Solution:\n",
    "    def canPlaceFlowers(self, flowerbed: list[int], n: int) -> bool:\n",
    "        a = 0\n",
    "        for b, c in pairwise(chain(flowerbed, (0,))):\n",
    "            k = a == b == c == 0\n",
    "            a = 1 if k else b\n",
    "            if n <= 0: return True\n",
    "            n -= k\n",
    "        return n <= 0\n"
   ]
  },
  {
   "cell_type": "markdown",
   "id": "2365c7ef",
   "metadata": {},
   "source": [
    "# \n",
    "Given an integer array nums, find three numbers whose product is maximum and return the maximum product.\n"
   ]
  },
  {
   "cell_type": "code",
   "execution_count": null,
   "id": "59a742c3",
   "metadata": {},
   "outputs": [],
   "source": [
    "class Solution:\n",
    "    def maximumProduct(self, a: List[int]) -> int:\n",
    "        a.sort(reverse=True)\n",
    "        v1=a[0]*a[1]*a[2]\n",
    "        v2=a[0]*a[-1]*a[-2]\n",
    "        return max(v1,v2)"
   ]
  },
  {
   "cell_type": "markdown",
   "id": "10db6842",
   "metadata": {},
   "source": [
    "# \n",
    "Given an array of integers nums which is sorted in ascending order, and an integer target,\n",
    "write a function to search target in nums. If target exists, then return its index. Otherwise,\n",
    "return -1.\n",
    "You must write an algorithm with O(log n) runtime complexity."
   ]
  },
  {
   "cell_type": "code",
   "execution_count": null,
   "id": "20fb2d77",
   "metadata": {},
   "outputs": [],
   "source": [
    "\n",
    "class Solution:\n",
    "    def search(self,nums:List[int],target:int)->int:\n",
    "        n=len(nums)\n",
    "        for i in range(n):\n",
    "            if nums[i]==target:\n",
    "                return i\n",
    "\n",
    "        return -1                                    "
   ]
  },
  {
   "cell_type": "markdown",
   "id": "12cc0618",
   "metadata": {},
   "source": [
    "# \n",
    "An array is monotonic if it is either monotone increasing or monotone decreasing.\n",
    "\n",
    "An array nums is monotone increasing if for all i <= j, nums[i] <= nums[j]. An array nums is\n",
    "monotone decreasing if for all i <= j, nums[i] >= nums[j].\n",
    "\n",
    "Given an integer array nums, return true if the given array is monotonic, or false otherwise."
   ]
  },
  {
   "cell_type": "code",
   "execution_count": null,
   "id": "7181d085",
   "metadata": {},
   "outputs": [],
   "source": [
    "class Solution:\n",
    "    def isMonotonic(self, A: List[int]) -> bool:\n",
    "        inc = True\n",
    "        dec = True\n",
    "        for i in range(len(A)-1):\n",
    "            if A[i] > A[i+1]:\n",
    "                inc = False\n",
    "                \n",
    "            if A[i] < A[i+1]:\n",
    "                dec = False\n",
    "                \n",
    "        return inc or dec\n",
    "        "
   ]
  }
 ],
 "metadata": {
  "kernelspec": {
   "display_name": "Python 3 (ipykernel)",
   "language": "python",
   "name": "python3"
  },
  "language_info": {
   "codemirror_mode": {
    "name": "ipython",
    "version": 3
   },
   "file_extension": ".py",
   "mimetype": "text/x-python",
   "name": "python",
   "nbconvert_exporter": "python",
   "pygments_lexer": "ipython3",
   "version": "3.9.12"
  }
 },
 "nbformat": 4,
 "nbformat_minor": 5
}
